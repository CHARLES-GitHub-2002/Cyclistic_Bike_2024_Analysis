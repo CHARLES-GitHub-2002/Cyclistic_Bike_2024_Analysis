{
 "cells": [
  {
   "cell_type": "markdown",
   "id": "07b78819-1a20-4c56-99c4-2693d25bf25d",
   "metadata": {},
   "source": [
    "# Business Objective"
   ]
  },
  {
   "cell_type": "markdown",
   "id": "96562012-3354-454a-821e-9f7f5aeec058",
   "metadata": {},
   "source": [
    "Analyzing the past 12-month data in order to find the difference in bike usage and behavior between casual users (who pays for a single-ride or a full-day service) and annual members (who pays for a yearly subscription to use the service).\n",
    "\n",
    "The Director of Marketing, Lily Moreno, believes that maximizing the number of annual members will be key to future growth.\n",
    "\n",
    "Furthermore, she believes that there is very good chance to convert casual users into members instead of creating a marketing campaign that targets all-new customers, as she notes that casual riders are already aware of the Cylistic program.\n",
    "\n",
    "What could motivate the “casual” users to change to an annual subscription based on their behavior?"
   ]
  },
  {
   "cell_type": "markdown",
   "id": "7c35d99a-bf58-41a1-bff0-a4b6dc3b4faa",
   "metadata": {},
   "source": [
    "# Ask\n",
    "- More preferable bike-type for both users?\n",
    "\n",
    "- More preferable weekday for both users?\n",
    "\n",
    "- Average duration/weekday for both users?\n",
    "\n",
    "- More preferable seasons for both users?"
   ]
  },
  {
   "cell_type": "markdown",
   "id": "aa165ca2-2ce7-4ef0-a95e-a401836e510b",
   "metadata": {},
   "source": [
    "# Prepare\n",
    "The data used in this case study is a publicly available repository of monthly datasets from Motivate International Inc.\n",
    "\n",
    "The datasets are available for download here.\n",
    "\n",
    "The datasets from the previous 12 months have been downloaded from this Kaggle dataset."
   ]
  },
  {
   "cell_type": "code",
   "execution_count": 5,
   "id": "502aa0d2-ca35-4e9d-bfe4-bb8f3c580263",
   "metadata": {},
   "outputs": [],
   "source": [
    "# Importing the requied Libraries\n",
    "import pandas as pd\n",
    "import numpy as np\n",
    "import matplotlib.pyplot as plt \n",
    "import seaborn as sns"
   ]
  },
  {
   "cell_type": "code",
   "execution_count": 6,
   "id": "3dc020df-f417-46b6-8348-a0d451adacb3",
   "metadata": {},
   "outputs": [],
   "source": [
    "# Importing all the 12months datasets\n",
    "DF_2021_04=pd.read_csv(r\"C:\\Users\\Charles\\Downloads\\cycling datasets\\202104-divvy-tripdata.csv\")\n",
    "DF_2021_05=pd.read_csv(r\"C:\\Users\\Charles\\Downloads\\cycling datasets\\202105-divvy-tripdata.csv\")\n",
    "DF_2021_06=pd.read_csv(r\"C:\\Users\\Charles\\Downloads\\cycling datasets\\202106-divvy-tripdata.csv\")\n",
    "DF_2021_07=pd.read_csv(r\"C:\\Users\\Charles\\Downloads\\cycling datasets\\202107-divvy-tripdata.csv\")\n",
    "DF_2021_08=pd.read_csv(r\"C:\\Users\\Charles\\Downloads\\cycling datasets\\202107-divvy-tripdata.csv\")\n",
    "DF_2021_09=pd.read_csv(r\"C:\\Users\\Charles\\Downloads\\cycling datasets\\202109-divvy-tripdata.csv\")\n",
    "DF_2021_10=pd.read_csv(r\"C:\\Users\\Charles\\Downloads\\cycling datasets\\202110-divvy-tripdata.csv\")\n",
    "DF_2021_11=pd.read_csv(r\"C:\\Users\\Charles\\Downloads\\cycling datasets\\202111-divvy-tripdata.csv\")\n",
    "DF_2021_12=pd.read_csv(r\"C:\\Users\\Charles\\Downloads\\cycling datasets\\202112-divvy-tripdata.csv\")\n",
    "DF_2022_01=pd.read_csv(r\"C:\\Users\\Charles\\Downloads\\cycling datasets\\202201-divvy-tripdata.csv\")\n",
    "DF_2022_02=pd.read_csv(r\"C:\\Users\\Charles\\Downloads\\cycling datasets\\202202-divvy-tripdata.csv\")\n",
    "DF_2022_03=pd.read_csv(r\"C:\\Users\\Charles\\Downloads\\cycling datasets\\202203-divvy-tripdata.csv\")"
   ]
  },
  {
   "cell_type": "code",
   "execution_count": 7,
   "id": "a642debd-d1a6-4b21-add4-935c36bab052",
   "metadata": {},
   "outputs": [],
   "source": [
    "#A list of all the months data \n",
    "months_df=[DF_2021_04,DF_2021_05,DF_2021_06,DF_2021_07,DF_2021_08,DF_2021_09,DF_2021_10,DF_2021_11,DF_2021_12,DF_2022_01,DF_2022_02,DF_2022_03]"
   ]
  },
  {
   "cell_type": "code",
   "execution_count": 8,
   "id": "197c2218-29e8-4733-98fb-5354ee0b4d36",
   "metadata": {},
   "outputs": [],
   "source": [
    "# Combining all the months into one dataset \n",
    "df=pd.concat(months_df)"
   ]
  },
  {
   "cell_type": "code",
   "execution_count": 9,
   "id": "2354a4d3-f3d1-4fed-88db-5415360da584",
   "metadata": {},
   "outputs": [
    {
     "data": {
      "text/html": [
       "<div>\n",
       "<style scoped>\n",
       "    .dataframe tbody tr th:only-of-type {\n",
       "        vertical-align: middle;\n",
       "    }\n",
       "\n",
       "    .dataframe tbody tr th {\n",
       "        vertical-align: top;\n",
       "    }\n",
       "\n",
       "    .dataframe thead th {\n",
       "        text-align: right;\n",
       "    }\n",
       "</style>\n",
       "<table border=\"1\" class=\"dataframe\">\n",
       "  <thead>\n",
       "    <tr style=\"text-align: right;\">\n",
       "      <th></th>\n",
       "      <th>ride_id</th>\n",
       "      <th>rideable_type</th>\n",
       "      <th>started_at</th>\n",
       "      <th>ended_at</th>\n",
       "      <th>start_station_name</th>\n",
       "      <th>start_station_id</th>\n",
       "      <th>end_station_name</th>\n",
       "      <th>end_station_id</th>\n",
       "      <th>start_lat</th>\n",
       "      <th>start_lng</th>\n",
       "      <th>end_lat</th>\n",
       "      <th>end_lng</th>\n",
       "      <th>member_casual</th>\n",
       "    </tr>\n",
       "  </thead>\n",
       "  <tbody>\n",
       "    <tr>\n",
       "      <th>0</th>\n",
       "      <td>6C992BD37A98A63F</td>\n",
       "      <td>classic_bike</td>\n",
       "      <td>2021-04-12 18:25:36</td>\n",
       "      <td>2021-04-12 18:56:55</td>\n",
       "      <td>State St &amp; Pearson St</td>\n",
       "      <td>TA1307000061</td>\n",
       "      <td>Southport Ave &amp; Waveland Ave</td>\n",
       "      <td>13235</td>\n",
       "      <td>41.897448</td>\n",
       "      <td>-87.628722</td>\n",
       "      <td>41.948150</td>\n",
       "      <td>-87.663940</td>\n",
       "      <td>member</td>\n",
       "    </tr>\n",
       "    <tr>\n",
       "      <th>1</th>\n",
       "      <td>1E0145613A209000</td>\n",
       "      <td>docked_bike</td>\n",
       "      <td>2021-04-27 17:27:11</td>\n",
       "      <td>2021-04-27 18:31:29</td>\n",
       "      <td>Dorchester Ave &amp; 49th St</td>\n",
       "      <td>KA1503000069</td>\n",
       "      <td>Dorchester Ave &amp; 49th St</td>\n",
       "      <td>KA1503000069</td>\n",
       "      <td>41.805772</td>\n",
       "      <td>-87.592464</td>\n",
       "      <td>41.805772</td>\n",
       "      <td>-87.592464</td>\n",
       "      <td>casual</td>\n",
       "    </tr>\n",
       "    <tr>\n",
       "      <th>2</th>\n",
       "      <td>E498E15508A80BAD</td>\n",
       "      <td>docked_bike</td>\n",
       "      <td>2021-04-03 12:42:45</td>\n",
       "      <td>2021-04-07 11:40:24</td>\n",
       "      <td>Loomis Blvd &amp; 84th St</td>\n",
       "      <td>20121</td>\n",
       "      <td>Loomis Blvd &amp; 84th St</td>\n",
       "      <td>20121</td>\n",
       "      <td>41.741487</td>\n",
       "      <td>-87.658410</td>\n",
       "      <td>41.741487</td>\n",
       "      <td>-87.658410</td>\n",
       "      <td>casual</td>\n",
       "    </tr>\n",
       "    <tr>\n",
       "      <th>3</th>\n",
       "      <td>1887262AD101C604</td>\n",
       "      <td>classic_bike</td>\n",
       "      <td>2021-04-17 09:17:42</td>\n",
       "      <td>2021-04-17 09:42:48</td>\n",
       "      <td>Honore St &amp; Division St</td>\n",
       "      <td>TA1305000034</td>\n",
       "      <td>Southport Ave &amp; Waveland Ave</td>\n",
       "      <td>13235</td>\n",
       "      <td>41.903119</td>\n",
       "      <td>-87.673935</td>\n",
       "      <td>41.948150</td>\n",
       "      <td>-87.663940</td>\n",
       "      <td>member</td>\n",
       "    </tr>\n",
       "    <tr>\n",
       "      <th>4</th>\n",
       "      <td>C123548CAB2A32A5</td>\n",
       "      <td>docked_bike</td>\n",
       "      <td>2021-04-03 12:42:25</td>\n",
       "      <td>2021-04-03 14:13:42</td>\n",
       "      <td>Loomis Blvd &amp; 84th St</td>\n",
       "      <td>20121</td>\n",
       "      <td>Loomis Blvd &amp; 84th St</td>\n",
       "      <td>20121</td>\n",
       "      <td>41.741487</td>\n",
       "      <td>-87.658410</td>\n",
       "      <td>41.741487</td>\n",
       "      <td>-87.658410</td>\n",
       "      <td>casual</td>\n",
       "    </tr>\n",
       "  </tbody>\n",
       "</table>\n",
       "</div>"
      ],
      "text/plain": [
       "            ride_id rideable_type           started_at             ended_at  \\\n",
       "0  6C992BD37A98A63F  classic_bike  2021-04-12 18:25:36  2021-04-12 18:56:55   \n",
       "1  1E0145613A209000   docked_bike  2021-04-27 17:27:11  2021-04-27 18:31:29   \n",
       "2  E498E15508A80BAD   docked_bike  2021-04-03 12:42:45  2021-04-07 11:40:24   \n",
       "3  1887262AD101C604  classic_bike  2021-04-17 09:17:42  2021-04-17 09:42:48   \n",
       "4  C123548CAB2A32A5   docked_bike  2021-04-03 12:42:25  2021-04-03 14:13:42   \n",
       "\n",
       "         start_station_name start_station_id              end_station_name  \\\n",
       "0     State St & Pearson St     TA1307000061  Southport Ave & Waveland Ave   \n",
       "1  Dorchester Ave & 49th St     KA1503000069      Dorchester Ave & 49th St   \n",
       "2     Loomis Blvd & 84th St            20121         Loomis Blvd & 84th St   \n",
       "3   Honore St & Division St     TA1305000034  Southport Ave & Waveland Ave   \n",
       "4     Loomis Blvd & 84th St            20121         Loomis Blvd & 84th St   \n",
       "\n",
       "  end_station_id  start_lat  start_lng    end_lat    end_lng member_casual  \n",
       "0          13235  41.897448 -87.628722  41.948150 -87.663940        member  \n",
       "1   KA1503000069  41.805772 -87.592464  41.805772 -87.592464        casual  \n",
       "2          20121  41.741487 -87.658410  41.741487 -87.658410        casual  \n",
       "3          13235  41.903119 -87.673935  41.948150 -87.663940        member  \n",
       "4          20121  41.741487 -87.658410  41.741487 -87.658410        casual  "
      ]
     },
     "execution_count": 9,
     "metadata": {},
     "output_type": "execute_result"
    }
   ],
   "source": [
    "df.head()"
   ]
  },
  {
   "cell_type": "code",
   "execution_count": 10,
   "id": "a3987f8d-e7e0-4c19-8aa0-d2d4e75cbf24",
   "metadata": {},
   "outputs": [
    {
     "name": "stdout",
     "output_type": "stream",
     "text": [
      "<class 'pandas.core.frame.DataFrame'>\n",
      "Index: 5741590 entries, 0 to 284041\n",
      "Data columns (total 13 columns):\n",
      " #   Column              Dtype  \n",
      "---  ------              -----  \n",
      " 0   ride_id             object \n",
      " 1   rideable_type       object \n",
      " 2   started_at          object \n",
      " 3   ended_at            object \n",
      " 4   start_station_name  object \n",
      " 5   start_station_id    object \n",
      " 6   end_station_name    object \n",
      " 7   end_station_id      object \n",
      " 8   start_lat           float64\n",
      " 9   start_lng           float64\n",
      " 10  end_lat             float64\n",
      " 11  end_lng             float64\n",
      " 12  member_casual       object \n",
      "dtypes: float64(4), object(9)\n",
      "memory usage: 613.3+ MB\n"
     ]
    }
   ],
   "source": [
    "# Information about the data\n",
    "df.info()"
   ]
  },
  {
   "cell_type": "markdown",
   "id": "7240dd43-b113-456d-b199-e43d3621ed1c",
   "metadata": {},
   "source": [
    "# Process"
   ]
  },
  {
   "cell_type": "code",
   "execution_count": 12,
   "id": "6db56035-b2c3-487f-90df-8e402e3aa146",
   "metadata": {},
   "outputs": [],
   "source": [
    "# Fixing data types for data columns \n",
    "df['started_at']=pd.to_datetime(df['started_at'])\n",
    "df['ended_at']=pd.to_datetime(df['ended_at'])"
   ]
  },
  {
   "cell_type": "code",
   "execution_count": 13,
   "id": "70a16dc9-607e-4f19-9022-75500faa0bf9",
   "metadata": {},
   "outputs": [
    {
     "data": {
      "text/plain": [
       "(129, 13)"
      ]
     },
     "execution_count": 13,
     "metadata": {},
     "output_type": "execute_result"
    }
   ],
   "source": [
    "# Cheaaking if the end data is earier than the start date\n",
    "false_data=df.loc[df['started_at']>df['ended_at']]\n",
    "false_data.shape"
   ]
  },
  {
   "cell_type": "code",
   "execution_count": 14,
   "id": "3167019e-bb52-4263-9e2d-c950a8338d85",
   "metadata": {},
   "outputs": [],
   "source": [
    "#Droping false data rows \n",
    "df_clean = df.drop(false_data.index.to_list())\n"
   ]
  },
  {
   "cell_type": "code",
   "execution_count": 15,
   "id": "51ebea53-9181-4c65-8f7a-aed500543b3d",
   "metadata": {},
   "outputs": [
    {
     "data": {
      "text/plain": [
       "14.324289437418702"
      ]
     },
     "execution_count": 15,
     "metadata": {},
     "output_type": "execute_result"
    }
   ],
   "source": [
    "#Cheaking duplicates \n",
    "df_clean.duplicated().sum()/5740557*100"
   ]
  },
  {
   "cell_type": "code",
   "execution_count": 16,
   "id": "b9776a4f-57db-4c39-a6b8-009bc23d5b02",
   "metadata": {},
   "outputs": [
    {
     "data": {
      "text/plain": [
       "(5740557, 13)"
      ]
     },
     "execution_count": 16,
     "metadata": {},
     "output_type": "execute_result"
    }
   ],
   "source": [
    "df_clean.shape"
   ]
  },
  {
   "cell_type": "code",
   "execution_count": 17,
   "id": "0dca3d06-9eb1-4618-80f9-877fe1d69111",
   "metadata": {},
   "outputs": [
    {
     "data": {
      "text/plain": [
       "0"
      ]
     },
     "execution_count": 17,
     "metadata": {},
     "output_type": "execute_result"
    }
   ],
   "source": [
    "df_clean.drop_duplicates(inplace=True)\n",
    "df_clean.duplicated().sum()"
   ]
  },
  {
   "cell_type": "code",
   "execution_count": 18,
   "id": "2966c90e-55be-4d55-a1e9-4d179b09d4e5",
   "metadata": {},
   "outputs": [
    {
     "data": {
      "text/plain": [
       "ride_id                    0\n",
       "rideable_type              0\n",
       "started_at                 0\n",
       "ended_at                   0\n",
       "start_station_name    656827\n",
       "start_station_id      656824\n",
       "end_station_name      702028\n",
       "end_station_id        702028\n",
       "start_lat                  0\n",
       "start_lng                  0\n",
       "end_lat                 4009\n",
       "end_lng                 4009\n",
       "member_casual              0\n",
       "dtype: int64"
      ]
     },
     "execution_count": 18,
     "metadata": {},
     "output_type": "execute_result"
    }
   ],
   "source": [
    "# Investigating for misssing Values \n",
    "df_clean.isnull().sum()"
   ]
  },
  {
   "cell_type": "code",
   "execution_count": 19,
   "id": "6bd462c9-d42f-4d9f-b548-2d86f5664db1",
   "metadata": {},
   "outputs": [],
   "source": [
    "df_clean.dropna(inplace=True)"
   ]
  },
  {
   "cell_type": "code",
   "execution_count": 20,
   "id": "5ec9bbe2-fd83-4d60-9000-854974507a76",
   "metadata": {},
   "outputs": [
    {
     "name": "stdout",
     "output_type": "stream",
     "text": [
      "<class 'pandas.core.frame.DataFrame'>\n",
      "Index: 3966222 entries, 0 to 284041\n",
      "Data columns (total 13 columns):\n",
      " #   Column              Dtype         \n",
      "---  ------              -----         \n",
      " 0   ride_id             object        \n",
      " 1   rideable_type       object        \n",
      " 2   started_at          datetime64[ns]\n",
      " 3   ended_at            datetime64[ns]\n",
      " 4   start_station_name  object        \n",
      " 5   start_station_id    object        \n",
      " 6   end_station_name    object        \n",
      " 7   end_station_id      object        \n",
      " 8   start_lat           float64       \n",
      " 9   start_lng           float64       \n",
      " 10  end_lat             float64       \n",
      " 11  end_lng             float64       \n",
      " 12  member_casual       object        \n",
      "dtypes: datetime64[ns](2), float64(4), object(7)\n",
      "memory usage: 423.6+ MB\n"
     ]
    }
   ],
   "source": [
    "df_clean.info()"
   ]
  },
  {
   "cell_type": "code",
   "execution_count": 21,
   "id": "096fe072-1400-4d39-8922-db114d64929c",
   "metadata": {},
   "outputs": [
    {
     "data": {
      "text/plain": [
       "(3966222, 13)"
      ]
     },
     "execution_count": 21,
     "metadata": {},
     "output_type": "execute_result"
    }
   ],
   "source": [
    "df_clean.shape"
   ]
  },
  {
   "cell_type": "code",
   "execution_count": 22,
   "id": "0ffd3b97-f02f-448a-b83e-4c6a27c97633",
   "metadata": {},
   "outputs": [],
   "source": [
    "def ext_season (month):\n",
    "    if month >=3 and month <=5 :\n",
    "        return 'Spring'\n",
    "    if month >=6 and month <=8:\n",
    "        return 'Summer'\n",
    "    if month >=9 and month <=11:\n",
    "        return 'Autum'\n",
    "    else:\n",
    "        return 'Winter'"
   ]
  },
  {
   "cell_type": "code",
   "execution_count": 23,
   "id": "459a28d8-ebc0-41f0-b244-629944bc9b60",
   "metadata": {},
   "outputs": [
    {
     "data": {
      "text/html": [
       "<div>\n",
       "<style scoped>\n",
       "    .dataframe tbody tr th:only-of-type {\n",
       "        vertical-align: middle;\n",
       "    }\n",
       "\n",
       "    .dataframe tbody tr th {\n",
       "        vertical-align: top;\n",
       "    }\n",
       "\n",
       "    .dataframe thead th {\n",
       "        text-align: right;\n",
       "    }\n",
       "</style>\n",
       "<table border=\"1\" class=\"dataframe\">\n",
       "  <thead>\n",
       "    <tr style=\"text-align: right;\">\n",
       "      <th></th>\n",
       "      <th>ride_id</th>\n",
       "      <th>rideable_type</th>\n",
       "      <th>started_at</th>\n",
       "      <th>ended_at</th>\n",
       "      <th>start_station_name</th>\n",
       "      <th>start_station_id</th>\n",
       "      <th>end_station_name</th>\n",
       "      <th>end_station_id</th>\n",
       "      <th>start_lat</th>\n",
       "      <th>start_lng</th>\n",
       "      <th>end_lat</th>\n",
       "      <th>end_lng</th>\n",
       "      <th>member_casual</th>\n",
       "    </tr>\n",
       "  </thead>\n",
       "  <tbody>\n",
       "    <tr>\n",
       "      <th>0</th>\n",
       "      <td>6C992BD37A98A63F</td>\n",
       "      <td>classic_bike</td>\n",
       "      <td>2021-04-12 18:25:36</td>\n",
       "      <td>2021-04-12 18:56:55</td>\n",
       "      <td>State St &amp; Pearson St</td>\n",
       "      <td>TA1307000061</td>\n",
       "      <td>Southport Ave &amp; Waveland Ave</td>\n",
       "      <td>13235</td>\n",
       "      <td>41.897448</td>\n",
       "      <td>-87.628722</td>\n",
       "      <td>41.94815</td>\n",
       "      <td>-87.66394</td>\n",
       "      <td>member</td>\n",
       "    </tr>\n",
       "  </tbody>\n",
       "</table>\n",
       "</div>"
      ],
      "text/plain": [
       "            ride_id rideable_type          started_at            ended_at  \\\n",
       "0  6C992BD37A98A63F  classic_bike 2021-04-12 18:25:36 2021-04-12 18:56:55   \n",
       "\n",
       "      start_station_name start_station_id              end_station_name  \\\n",
       "0  State St & Pearson St     TA1307000061  Southport Ave & Waveland Ave   \n",
       "\n",
       "  end_station_id  start_lat  start_lng   end_lat   end_lng member_casual  \n",
       "0          13235  41.897448 -87.628722  41.94815 -87.66394        member  "
      ]
     },
     "execution_count": 23,
     "metadata": {},
     "output_type": "execute_result"
    }
   ],
   "source": [
    "df_clean.head(1)"
   ]
  },
  {
   "cell_type": "code",
   "execution_count": 24,
   "id": "aee1b54f-a0bd-490c-9d18-1ffe97492142",
   "metadata": {},
   "outputs": [],
   "source": [
    "#Extracting weekdays monday=0,sunday=6\n",
    "df_clean['weekday']=df_clean['started_at'].dt.dayofweek"
   ]
  },
  {
   "cell_type": "code",
   "execution_count": 25,
   "id": "4dcc075c-158c-4851-86cf-692ea84d39e2",
   "metadata": {},
   "outputs": [
    {
     "data": {
      "text/html": [
       "<div>\n",
       "<style scoped>\n",
       "    .dataframe tbody tr th:only-of-type {\n",
       "        vertical-align: middle;\n",
       "    }\n",
       "\n",
       "    .dataframe tbody tr th {\n",
       "        vertical-align: top;\n",
       "    }\n",
       "\n",
       "    .dataframe thead th {\n",
       "        text-align: right;\n",
       "    }\n",
       "</style>\n",
       "<table border=\"1\" class=\"dataframe\">\n",
       "  <thead>\n",
       "    <tr style=\"text-align: right;\">\n",
       "      <th></th>\n",
       "      <th>ride_id</th>\n",
       "      <th>rideable_type</th>\n",
       "      <th>started_at</th>\n",
       "      <th>ended_at</th>\n",
       "      <th>start_station_name</th>\n",
       "      <th>start_station_id</th>\n",
       "      <th>end_station_name</th>\n",
       "      <th>end_station_id</th>\n",
       "      <th>start_lat</th>\n",
       "      <th>start_lng</th>\n",
       "      <th>end_lat</th>\n",
       "      <th>end_lng</th>\n",
       "      <th>member_casual</th>\n",
       "      <th>weekday</th>\n",
       "    </tr>\n",
       "  </thead>\n",
       "  <tbody>\n",
       "    <tr>\n",
       "      <th>0</th>\n",
       "      <td>6C992BD37A98A63F</td>\n",
       "      <td>classic_bike</td>\n",
       "      <td>2021-04-12 18:25:36</td>\n",
       "      <td>2021-04-12 18:56:55</td>\n",
       "      <td>State St &amp; Pearson St</td>\n",
       "      <td>TA1307000061</td>\n",
       "      <td>Southport Ave &amp; Waveland Ave</td>\n",
       "      <td>13235</td>\n",
       "      <td>41.897448</td>\n",
       "      <td>-87.628722</td>\n",
       "      <td>41.94815</td>\n",
       "      <td>-87.66394</td>\n",
       "      <td>member</td>\n",
       "      <td>0</td>\n",
       "    </tr>\n",
       "  </tbody>\n",
       "</table>\n",
       "</div>"
      ],
      "text/plain": [
       "            ride_id rideable_type          started_at            ended_at  \\\n",
       "0  6C992BD37A98A63F  classic_bike 2021-04-12 18:25:36 2021-04-12 18:56:55   \n",
       "\n",
       "      start_station_name start_station_id              end_station_name  \\\n",
       "0  State St & Pearson St     TA1307000061  Southport Ave & Waveland Ave   \n",
       "\n",
       "  end_station_id  start_lat  start_lng   end_lat   end_lng member_casual  \\\n",
       "0          13235  41.897448 -87.628722  41.94815 -87.66394        member   \n",
       "\n",
       "   weekday  \n",
       "0        0  "
      ]
     },
     "execution_count": 25,
     "metadata": {},
     "output_type": "execute_result"
    }
   ],
   "source": [
    "df_clean.head(1)"
   ]
  },
  {
   "cell_type": "code",
   "execution_count": 26,
   "id": "a10624bd-b7fa-4cb2-b598-ab12b4d16895",
   "metadata": {},
   "outputs": [],
   "source": [
    "# Replacing weekdays with names not numbers \n",
    "weekday_names={0:'Monday',1:'Tuesday',2:'Wenesday',3:'Thursday',4:'Friday',5:'Saturday',6:'Sunday'}\n",
    "df_clean['weekday']=df_clean['weekday'].map(weekday_names)"
   ]
  },
  {
   "cell_type": "code",
   "execution_count": 27,
   "id": "ed92f7f3-05a0-4166-8d12-300aac5e1ac5",
   "metadata": {},
   "outputs": [
    {
     "data": {
      "text/html": [
       "<div>\n",
       "<style scoped>\n",
       "    .dataframe tbody tr th:only-of-type {\n",
       "        vertical-align: middle;\n",
       "    }\n",
       "\n",
       "    .dataframe tbody tr th {\n",
       "        vertical-align: top;\n",
       "    }\n",
       "\n",
       "    .dataframe thead th {\n",
       "        text-align: right;\n",
       "    }\n",
       "</style>\n",
       "<table border=\"1\" class=\"dataframe\">\n",
       "  <thead>\n",
       "    <tr style=\"text-align: right;\">\n",
       "      <th></th>\n",
       "      <th>ride_id</th>\n",
       "      <th>rideable_type</th>\n",
       "      <th>started_at</th>\n",
       "      <th>ended_at</th>\n",
       "      <th>start_station_name</th>\n",
       "      <th>start_station_id</th>\n",
       "      <th>end_station_name</th>\n",
       "      <th>end_station_id</th>\n",
       "      <th>start_lat</th>\n",
       "      <th>start_lng</th>\n",
       "      <th>end_lat</th>\n",
       "      <th>end_lng</th>\n",
       "      <th>member_casual</th>\n",
       "      <th>weekday</th>\n",
       "    </tr>\n",
       "  </thead>\n",
       "  <tbody>\n",
       "    <tr>\n",
       "      <th>0</th>\n",
       "      <td>6C992BD37A98A63F</td>\n",
       "      <td>classic_bike</td>\n",
       "      <td>2021-04-12 18:25:36</td>\n",
       "      <td>2021-04-12 18:56:55</td>\n",
       "      <td>State St &amp; Pearson St</td>\n",
       "      <td>TA1307000061</td>\n",
       "      <td>Southport Ave &amp; Waveland Ave</td>\n",
       "      <td>13235</td>\n",
       "      <td>41.897448</td>\n",
       "      <td>-87.628722</td>\n",
       "      <td>41.94815</td>\n",
       "      <td>-87.66394</td>\n",
       "      <td>member</td>\n",
       "      <td>Monday</td>\n",
       "    </tr>\n",
       "  </tbody>\n",
       "</table>\n",
       "</div>"
      ],
      "text/plain": [
       "            ride_id rideable_type          started_at            ended_at  \\\n",
       "0  6C992BD37A98A63F  classic_bike 2021-04-12 18:25:36 2021-04-12 18:56:55   \n",
       "\n",
       "      start_station_name start_station_id              end_station_name  \\\n",
       "0  State St & Pearson St     TA1307000061  Southport Ave & Waveland Ave   \n",
       "\n",
       "  end_station_id  start_lat  start_lng   end_lat   end_lng member_casual  \\\n",
       "0          13235  41.897448 -87.628722  41.94815 -87.66394        member   \n",
       "\n",
       "  weekday  \n",
       "0  Monday  "
      ]
     },
     "execution_count": 27,
     "metadata": {},
     "output_type": "execute_result"
    }
   ],
   "source": [
    "df_clean.head(1)"
   ]
  },
  {
   "cell_type": "code",
   "execution_count": 28,
   "id": "04a11c70-a8f6-437e-b9f5-c9c598f76002",
   "metadata": {},
   "outputs": [],
   "source": [
    "# Calculating trips duration field in minutes\n",
    "df_clean['duration_minutes']=round((df_clean['ended_at']- df_clean['started_at']).dt.total_seconds()/60,2)"
   ]
  },
  {
   "cell_type": "code",
   "execution_count": 56,
   "id": "fd1300e1-973f-4bd3-aa9c-2b6397bbe6cf",
   "metadata": {},
   "outputs": [
    {
     "data": {
      "text/html": [
       "<div>\n",
       "<style scoped>\n",
       "    .dataframe tbody tr th:only-of-type {\n",
       "        vertical-align: middle;\n",
       "    }\n",
       "\n",
       "    .dataframe tbody tr th {\n",
       "        vertical-align: top;\n",
       "    }\n",
       "\n",
       "    .dataframe thead th {\n",
       "        text-align: right;\n",
       "    }\n",
       "</style>\n",
       "<table border=\"1\" class=\"dataframe\">\n",
       "  <thead>\n",
       "    <tr style=\"text-align: right;\">\n",
       "      <th></th>\n",
       "      <th>ride_id</th>\n",
       "      <th>rideable_type</th>\n",
       "      <th>started_at</th>\n",
       "      <th>ended_at</th>\n",
       "      <th>start_station_name</th>\n",
       "      <th>start_station_id</th>\n",
       "      <th>end_station_name</th>\n",
       "      <th>end_station_id</th>\n",
       "      <th>start_lat</th>\n",
       "      <th>start_lng</th>\n",
       "      <th>end_lat</th>\n",
       "      <th>end_lng</th>\n",
       "      <th>member_casual</th>\n",
       "      <th>weekday</th>\n",
       "      <th>duration_minutes</th>\n",
       "    </tr>\n",
       "  </thead>\n",
       "  <tbody>\n",
       "    <tr>\n",
       "      <th>0</th>\n",
       "      <td>6C992BD37A98A63F</td>\n",
       "      <td>classic_bike</td>\n",
       "      <td>2021-04-12 18:25:36</td>\n",
       "      <td>2021-04-12 18:56:55</td>\n",
       "      <td>State St &amp; Pearson St</td>\n",
       "      <td>TA1307000061</td>\n",
       "      <td>Southport Ave &amp; Waveland Ave</td>\n",
       "      <td>13235</td>\n",
       "      <td>41.897448</td>\n",
       "      <td>-87.628722</td>\n",
       "      <td>41.94815</td>\n",
       "      <td>-87.66394</td>\n",
       "      <td>member</td>\n",
       "      <td>Monday</td>\n",
       "      <td>31.32</td>\n",
       "    </tr>\n",
       "  </tbody>\n",
       "</table>\n",
       "</div>"
      ],
      "text/plain": [
       "            ride_id rideable_type          started_at            ended_at  \\\n",
       "0  6C992BD37A98A63F  classic_bike 2021-04-12 18:25:36 2021-04-12 18:56:55   \n",
       "\n",
       "      start_station_name start_station_id              end_station_name  \\\n",
       "0  State St & Pearson St     TA1307000061  Southport Ave & Waveland Ave   \n",
       "\n",
       "  end_station_id  start_lat  start_lng   end_lat   end_lng member_casual  \\\n",
       "0          13235  41.897448 -87.628722  41.94815 -87.66394        member   \n",
       "\n",
       "  weekday  duration_minutes  \n",
       "0  Monday             31.32  "
      ]
     },
     "execution_count": 56,
     "metadata": {},
     "output_type": "execute_result"
    }
   ],
   "source": [
    "df_clean.head(1)"
   ]
  },
  {
   "cell_type": "code",
   "execution_count": 58,
   "id": "76de74c2-fa62-4346-bbaf-f6031fb8af04",
   "metadata": {},
   "outputs": [],
   "source": [
    "#Extracting season \n",
    "df_clean['season']=df_clean['started_at'].dt.month.map(ext_season)"
   ]
  },
  {
   "cell_type": "code",
   "execution_count": 60,
   "id": "51eb3152-31f1-487d-9406-daad1b4f253b",
   "metadata": {},
   "outputs": [
    {
     "data": {
      "text/html": [
       "<div>\n",
       "<style scoped>\n",
       "    .dataframe tbody tr th:only-of-type {\n",
       "        vertical-align: middle;\n",
       "    }\n",
       "\n",
       "    .dataframe tbody tr th {\n",
       "        vertical-align: top;\n",
       "    }\n",
       "\n",
       "    .dataframe thead th {\n",
       "        text-align: right;\n",
       "    }\n",
       "</style>\n",
       "<table border=\"1\" class=\"dataframe\">\n",
       "  <thead>\n",
       "    <tr style=\"text-align: right;\">\n",
       "      <th></th>\n",
       "      <th>ride_id</th>\n",
       "      <th>rideable_type</th>\n",
       "      <th>started_at</th>\n",
       "      <th>ended_at</th>\n",
       "      <th>start_station_name</th>\n",
       "      <th>start_station_id</th>\n",
       "      <th>end_station_name</th>\n",
       "      <th>end_station_id</th>\n",
       "      <th>start_lat</th>\n",
       "      <th>start_lng</th>\n",
       "      <th>end_lat</th>\n",
       "      <th>end_lng</th>\n",
       "      <th>member_casual</th>\n",
       "      <th>weekday</th>\n",
       "      <th>duration_minutes</th>\n",
       "      <th>season</th>\n",
       "    </tr>\n",
       "  </thead>\n",
       "  <tbody>\n",
       "    <tr>\n",
       "      <th>0</th>\n",
       "      <td>6C992BD37A98A63F</td>\n",
       "      <td>classic_bike</td>\n",
       "      <td>2021-04-12 18:25:36</td>\n",
       "      <td>2021-04-12 18:56:55</td>\n",
       "      <td>State St &amp; Pearson St</td>\n",
       "      <td>TA1307000061</td>\n",
       "      <td>Southport Ave &amp; Waveland Ave</td>\n",
       "      <td>13235</td>\n",
       "      <td>41.897448</td>\n",
       "      <td>-87.628722</td>\n",
       "      <td>41.94815</td>\n",
       "      <td>-87.66394</td>\n",
       "      <td>member</td>\n",
       "      <td>Monday</td>\n",
       "      <td>31.32</td>\n",
       "      <td>Spring</td>\n",
       "    </tr>\n",
       "  </tbody>\n",
       "</table>\n",
       "</div>"
      ],
      "text/plain": [
       "            ride_id rideable_type          started_at            ended_at  \\\n",
       "0  6C992BD37A98A63F  classic_bike 2021-04-12 18:25:36 2021-04-12 18:56:55   \n",
       "\n",
       "      start_station_name start_station_id              end_station_name  \\\n",
       "0  State St & Pearson St     TA1307000061  Southport Ave & Waveland Ave   \n",
       "\n",
       "  end_station_id  start_lat  start_lng   end_lat   end_lng member_casual  \\\n",
       "0          13235  41.897448 -87.628722  41.94815 -87.66394        member   \n",
       "\n",
       "  weekday  duration_minutes  season  \n",
       "0  Monday             31.32  Spring  "
      ]
     },
     "execution_count": 60,
     "metadata": {},
     "output_type": "execute_result"
    }
   ],
   "source": [
    "df_clean.head(1)"
   ]
  },
  {
   "cell_type": "markdown",
   "id": "dd65cf3a-7e6f-44f8-847c-c30086782e72",
   "metadata": {},
   "source": [
    "# Analyze"
   ]
  },
  {
   "cell_type": "code",
   "execution_count": 67,
   "id": "342e5854-c164-4ee2-89b5-f8522d9b301d",
   "metadata": {},
   "outputs": [],
   "source": [
    "# Counting the riders given the user type\n",
    "count=df_clean['member_casual'].value_counts().rename_axis('member_casual').reset_index(name='count')"
   ]
  },
  {
   "cell_type": "code",
   "execution_count": 69,
   "id": "f7bce7e1-c886-47f2-805b-8601dfa57705",
   "metadata": {},
   "outputs": [
    {
     "data": {
      "text/html": [
       "<div>\n",
       "<style scoped>\n",
       "    .dataframe tbody tr th:only-of-type {\n",
       "        vertical-align: middle;\n",
       "    }\n",
       "\n",
       "    .dataframe tbody tr th {\n",
       "        vertical-align: top;\n",
       "    }\n",
       "\n",
       "    .dataframe thead th {\n",
       "        text-align: right;\n",
       "    }\n",
       "</style>\n",
       "<table border=\"1\" class=\"dataframe\">\n",
       "  <thead>\n",
       "    <tr style=\"text-align: right;\">\n",
       "      <th></th>\n",
       "      <th>member_casual</th>\n",
       "      <th>count</th>\n",
       "    </tr>\n",
       "  </thead>\n",
       "  <tbody>\n",
       "    <tr>\n",
       "      <th>0</th>\n",
       "      <td>member</td>\n",
       "      <td>2263665</td>\n",
       "    </tr>\n",
       "    <tr>\n",
       "      <th>1</th>\n",
       "      <td>casual</td>\n",
       "      <td>1702557</td>\n",
       "    </tr>\n",
       "  </tbody>\n",
       "</table>\n",
       "</div>"
      ],
      "text/plain": [
       "  member_casual    count\n",
       "0        member  2263665\n",
       "1        casual  1702557"
      ]
     },
     "execution_count": 69,
     "metadata": {},
     "output_type": "execute_result"
    }
   ],
   "source": [
    "count"
   ]
  },
  {
   "cell_type": "code",
   "execution_count": 73,
   "id": "1ca3c860-1028-4f1f-9723-c9cfd8e99def",
   "metadata": {},
   "outputs": [],
   "source": [
    "#count the riders given both users and the bike type\n",
    "count_bt=df_clean.groupby(['member_casual','rideable_type'])['ride_id'].count().rename_axis(['member_casual','rideable_type']).reset_index(name='count')"
   ]
  },
  {
   "cell_type": "code",
   "execution_count": 77,
   "id": "7675123d-c0f6-4243-940d-d60c2374bc52",
   "metadata": {},
   "outputs": [
    {
     "data": {
      "text/html": [
       "<div>\n",
       "<style scoped>\n",
       "    .dataframe tbody tr th:only-of-type {\n",
       "        vertical-align: middle;\n",
       "    }\n",
       "\n",
       "    .dataframe tbody tr th {\n",
       "        vertical-align: top;\n",
       "    }\n",
       "\n",
       "    .dataframe thead th {\n",
       "        text-align: right;\n",
       "    }\n",
       "</style>\n",
       "<table border=\"1\" class=\"dataframe\">\n",
       "  <thead>\n",
       "    <tr style=\"text-align: right;\">\n",
       "      <th></th>\n",
       "      <th>member_casual</th>\n",
       "      <th>rideable_type</th>\n",
       "      <th>count</th>\n",
       "    </tr>\n",
       "  </thead>\n",
       "  <tbody>\n",
       "    <tr>\n",
       "      <th>0</th>\n",
       "      <td>casual</td>\n",
       "      <td>classic_bike</td>\n",
       "      <td>1023270</td>\n",
       "    </tr>\n",
       "    <tr>\n",
       "      <th>1</th>\n",
       "      <td>casual</td>\n",
       "      <td>docked_bike</td>\n",
       "      <td>258417</td>\n",
       "    </tr>\n",
       "    <tr>\n",
       "      <th>2</th>\n",
       "      <td>casual</td>\n",
       "      <td>electric_bike</td>\n",
       "      <td>420870</td>\n",
       "    </tr>\n",
       "    <tr>\n",
       "      <th>3</th>\n",
       "      <td>member</td>\n",
       "      <td>classic_bike</td>\n",
       "      <td>1716375</td>\n",
       "    </tr>\n",
       "    <tr>\n",
       "      <th>4</th>\n",
       "      <td>member</td>\n",
       "      <td>electric_bike</td>\n",
       "      <td>547290</td>\n",
       "    </tr>\n",
       "  </tbody>\n",
       "</table>\n",
       "</div>"
      ],
      "text/plain": [
       "  member_casual  rideable_type    count\n",
       "0        casual   classic_bike  1023270\n",
       "1        casual    docked_bike   258417\n",
       "2        casual  electric_bike   420870\n",
       "3        member   classic_bike  1716375\n",
       "4        member  electric_bike   547290"
      ]
     },
     "execution_count": 77,
     "metadata": {},
     "output_type": "execute_result"
    }
   ],
   "source": [
    "count_bt"
   ]
  },
  {
   "cell_type": "code",
   "execution_count": 79,
   "id": "01f2ddbc-2fb3-4dd2-81e8-ed88ac948a81",
   "metadata": {},
   "outputs": [],
   "source": [
    "# countthe riders given both user and weekday\n",
    "count_wd=df_clean.groupby(['member_casual','weekday'])['weekday'].count().rename_axis(['member_casual','weekday']).reset_index(name='count')"
   ]
  },
  {
   "cell_type": "code",
   "execution_count": 81,
   "id": "30e2c286-5e67-4ea8-97a4-502544dd52be",
   "metadata": {},
   "outputs": [
    {
     "data": {
      "text/html": [
       "<div>\n",
       "<style scoped>\n",
       "    .dataframe tbody tr th:only-of-type {\n",
       "        vertical-align: middle;\n",
       "    }\n",
       "\n",
       "    .dataframe tbody tr th {\n",
       "        vertical-align: top;\n",
       "    }\n",
       "\n",
       "    .dataframe thead th {\n",
       "        text-align: right;\n",
       "    }\n",
       "</style>\n",
       "<table border=\"1\" class=\"dataframe\">\n",
       "  <thead>\n",
       "    <tr style=\"text-align: right;\">\n",
       "      <th></th>\n",
       "      <th>member_casual</th>\n",
       "      <th>weekday</th>\n",
       "      <th>count</th>\n",
       "    </tr>\n",
       "  </thead>\n",
       "  <tbody>\n",
       "    <tr>\n",
       "      <th>0</th>\n",
       "      <td>casual</td>\n",
       "      <td>Friday</td>\n",
       "      <td>240018</td>\n",
       "    </tr>\n",
       "    <tr>\n",
       "      <th>1</th>\n",
       "      <td>casual</td>\n",
       "      <td>Monday</td>\n",
       "      <td>191801</td>\n",
       "    </tr>\n",
       "    <tr>\n",
       "      <th>2</th>\n",
       "      <td>casual</td>\n",
       "      <td>Saturday</td>\n",
       "      <td>386093</td>\n",
       "    </tr>\n",
       "    <tr>\n",
       "      <th>3</th>\n",
       "      <td>casual</td>\n",
       "      <td>Sunday</td>\n",
       "      <td>328667</td>\n",
       "    </tr>\n",
       "    <tr>\n",
       "      <th>4</th>\n",
       "      <td>casual</td>\n",
       "      <td>Thursday</td>\n",
       "      <td>189962</td>\n",
       "    </tr>\n",
       "    <tr>\n",
       "      <th>5</th>\n",
       "      <td>casual</td>\n",
       "      <td>Tuesday</td>\n",
       "      <td>176268</td>\n",
       "    </tr>\n",
       "    <tr>\n",
       "      <th>6</th>\n",
       "      <td>casual</td>\n",
       "      <td>Wenesday</td>\n",
       "      <td>189748</td>\n",
       "    </tr>\n",
       "    <tr>\n",
       "      <th>7</th>\n",
       "      <td>member</td>\n",
       "      <td>Friday</td>\n",
       "      <td>321910</td>\n",
       "    </tr>\n",
       "    <tr>\n",
       "      <th>8</th>\n",
       "      <td>member</td>\n",
       "      <td>Monday</td>\n",
       "      <td>309386</td>\n",
       "    </tr>\n",
       "    <tr>\n",
       "      <th>9</th>\n",
       "      <td>member</td>\n",
       "      <td>Saturday</td>\n",
       "      <td>306875</td>\n",
       "    </tr>\n",
       "    <tr>\n",
       "      <th>10</th>\n",
       "      <td>member</td>\n",
       "      <td>Sunday</td>\n",
       "      <td>267973</td>\n",
       "    </tr>\n",
       "    <tr>\n",
       "      <th>11</th>\n",
       "      <td>member</td>\n",
       "      <td>Thursday</td>\n",
       "      <td>341624</td>\n",
       "    </tr>\n",
       "    <tr>\n",
       "      <th>12</th>\n",
       "      <td>member</td>\n",
       "      <td>Tuesday</td>\n",
       "      <td>348845</td>\n",
       "    </tr>\n",
       "    <tr>\n",
       "      <th>13</th>\n",
       "      <td>member</td>\n",
       "      <td>Wenesday</td>\n",
       "      <td>367052</td>\n",
       "    </tr>\n",
       "  </tbody>\n",
       "</table>\n",
       "</div>"
      ],
      "text/plain": [
       "   member_casual   weekday   count\n",
       "0         casual    Friday  240018\n",
       "1         casual    Monday  191801\n",
       "2         casual  Saturday  386093\n",
       "3         casual    Sunday  328667\n",
       "4         casual  Thursday  189962\n",
       "5         casual   Tuesday  176268\n",
       "6         casual  Wenesday  189748\n",
       "7         member    Friday  321910\n",
       "8         member    Monday  309386\n",
       "9         member  Saturday  306875\n",
       "10        member    Sunday  267973\n",
       "11        member  Thursday  341624\n",
       "12        member   Tuesday  348845\n",
       "13        member  Wenesday  367052"
      ]
     },
     "execution_count": 81,
     "metadata": {},
     "output_type": "execute_result"
    }
   ],
   "source": [
    "count_wd"
   ]
  },
  {
   "cell_type": "code",
   "execution_count": 83,
   "id": "55b72367-6492-4e5f-a718-bba87f12fcfb",
   "metadata": {},
   "outputs": [],
   "source": [
    "# Average ride duration given user and weekday\n",
    "avg_ride=df_clean.groupby(['member_casual','weekday'])['duration_minutes'].mean().rename_axis(['member_casual','weekday']).reset_index(name='Avg_duration_m')"
   ]
  },
  {
   "cell_type": "code",
   "execution_count": 87,
   "id": "a779fd54-4f0e-40b2-b578-36be3b20ed19",
   "metadata": {},
   "outputs": [],
   "source": [
    "#Avg duration rounded to 2decimal places \n",
    "avg_ride['Avg_duration_m']=round(avg_ride['Avg_duration_m'],2)"
   ]
  },
  {
   "cell_type": "code",
   "execution_count": 89,
   "id": "5c433a50-5b7f-483e-abf8-6ab06f4e89fa",
   "metadata": {},
   "outputs": [
    {
     "data": {
      "text/html": [
       "<div>\n",
       "<style scoped>\n",
       "    .dataframe tbody tr th:only-of-type {\n",
       "        vertical-align: middle;\n",
       "    }\n",
       "\n",
       "    .dataframe tbody tr th {\n",
       "        vertical-align: top;\n",
       "    }\n",
       "\n",
       "    .dataframe thead th {\n",
       "        text-align: right;\n",
       "    }\n",
       "</style>\n",
       "<table border=\"1\" class=\"dataframe\">\n",
       "  <thead>\n",
       "    <tr style=\"text-align: right;\">\n",
       "      <th></th>\n",
       "      <th>member_casual</th>\n",
       "      <th>weekday</th>\n",
       "      <th>Avg_duration_m</th>\n",
       "    </tr>\n",
       "  </thead>\n",
       "  <tbody>\n",
       "    <tr>\n",
       "      <th>0</th>\n",
       "      <td>casual</td>\n",
       "      <td>Friday</td>\n",
       "      <td>31.28</td>\n",
       "    </tr>\n",
       "    <tr>\n",
       "      <th>1</th>\n",
       "      <td>casual</td>\n",
       "      <td>Monday</td>\n",
       "      <td>32.64</td>\n",
       "    </tr>\n",
       "    <tr>\n",
       "      <th>2</th>\n",
       "      <td>casual</td>\n",
       "      <td>Saturday</td>\n",
       "      <td>35.07</td>\n",
       "    </tr>\n",
       "    <tr>\n",
       "      <th>3</th>\n",
       "      <td>casual</td>\n",
       "      <td>Sunday</td>\n",
       "      <td>38.29</td>\n",
       "    </tr>\n",
       "    <tr>\n",
       "      <th>4</th>\n",
       "      <td>casual</td>\n",
       "      <td>Thursday</td>\n",
       "      <td>28.36</td>\n",
       "    </tr>\n",
       "    <tr>\n",
       "      <th>5</th>\n",
       "      <td>casual</td>\n",
       "      <td>Tuesday</td>\n",
       "      <td>28.56</td>\n",
       "    </tr>\n",
       "    <tr>\n",
       "      <th>6</th>\n",
       "      <td>casual</td>\n",
       "      <td>Wenesday</td>\n",
       "      <td>28.67</td>\n",
       "    </tr>\n",
       "    <tr>\n",
       "      <th>7</th>\n",
       "      <td>member</td>\n",
       "      <td>Friday</td>\n",
       "      <td>12.57</td>\n",
       "    </tr>\n",
       "    <tr>\n",
       "      <th>8</th>\n",
       "      <td>member</td>\n",
       "      <td>Monday</td>\n",
       "      <td>12.46</td>\n",
       "    </tr>\n",
       "    <tr>\n",
       "      <th>9</th>\n",
       "      <td>member</td>\n",
       "      <td>Saturday</td>\n",
       "      <td>14.45</td>\n",
       "    </tr>\n",
       "    <tr>\n",
       "      <th>10</th>\n",
       "      <td>member</td>\n",
       "      <td>Sunday</td>\n",
       "      <td>14.81</td>\n",
       "    </tr>\n",
       "    <tr>\n",
       "      <th>11</th>\n",
       "      <td>member</td>\n",
       "      <td>Thursday</td>\n",
       "      <td>12.05</td>\n",
       "    </tr>\n",
       "    <tr>\n",
       "      <th>12</th>\n",
       "      <td>member</td>\n",
       "      <td>Tuesday</td>\n",
       "      <td>12.02</td>\n",
       "    </tr>\n",
       "    <tr>\n",
       "      <th>13</th>\n",
       "      <td>member</td>\n",
       "      <td>Wenesday</td>\n",
       "      <td>12.20</td>\n",
       "    </tr>\n",
       "  </tbody>\n",
       "</table>\n",
       "</div>"
      ],
      "text/plain": [
       "   member_casual   weekday  Avg_duration_m\n",
       "0         casual    Friday           31.28\n",
       "1         casual    Monday           32.64\n",
       "2         casual  Saturday           35.07\n",
       "3         casual    Sunday           38.29\n",
       "4         casual  Thursday           28.36\n",
       "5         casual   Tuesday           28.56\n",
       "6         casual  Wenesday           28.67\n",
       "7         member    Friday           12.57\n",
       "8         member    Monday           12.46\n",
       "9         member  Saturday           14.45\n",
       "10        member    Sunday           14.81\n",
       "11        member  Thursday           12.05\n",
       "12        member   Tuesday           12.02\n",
       "13        member  Wenesday           12.20"
      ]
     },
     "execution_count": 89,
     "metadata": {},
     "output_type": "execute_result"
    }
   ],
   "source": [
    "avg_ride"
   ]
  },
  {
   "cell_type": "code",
   "execution_count": 91,
   "id": "d16442c1-8781-4ac2-a0d4-11213ba859e0",
   "metadata": {},
   "outputs": [],
   "source": [
    "#Count of rides given both users and seson \n",
    "count_s=df_clean.groupby(['member_casual','season'])['season'].count().rename_axis(['member_casual','season']).reset_index(name='count')"
   ]
  },
  {
   "cell_type": "code",
   "execution_count": 95,
   "id": "1e3f2f21-d89c-4457-8092-c7031c062a4f",
   "metadata": {},
   "outputs": [
    {
     "data": {
      "text/html": [
       "<div>\n",
       "<style scoped>\n",
       "    .dataframe tbody tr th:only-of-type {\n",
       "        vertical-align: middle;\n",
       "    }\n",
       "\n",
       "    .dataframe tbody tr th {\n",
       "        vertical-align: top;\n",
       "    }\n",
       "\n",
       "    .dataframe thead th {\n",
       "        text-align: right;\n",
       "    }\n",
       "</style>\n",
       "<table border=\"1\" class=\"dataframe\">\n",
       "  <thead>\n",
       "    <tr style=\"text-align: right;\">\n",
       "      <th></th>\n",
       "      <th>member_casual</th>\n",
       "      <th>season</th>\n",
       "      <th>count</th>\n",
       "    </tr>\n",
       "  </thead>\n",
       "  <tbody>\n",
       "    <tr>\n",
       "      <th>0</th>\n",
       "      <td>casual</td>\n",
       "      <td>Autum</td>\n",
       "      <td>551930</td>\n",
       "    </tr>\n",
       "    <tr>\n",
       "      <th>1</th>\n",
       "      <td>casual</td>\n",
       "      <td>Spring</td>\n",
       "      <td>404318</td>\n",
       "    </tr>\n",
       "    <tr>\n",
       "      <th>2</th>\n",
       "      <td>casual</td>\n",
       "      <td>Summer</td>\n",
       "      <td>673508</td>\n",
       "    </tr>\n",
       "    <tr>\n",
       "      <th>3</th>\n",
       "      <td>casual</td>\n",
       "      <td>Winter</td>\n",
       "      <td>72801</td>\n",
       "    </tr>\n",
       "    <tr>\n",
       "      <th>4</th>\n",
       "      <td>member</td>\n",
       "      <td>Autum</td>\n",
       "      <td>802841</td>\n",
       "    </tr>\n",
       "    <tr>\n",
       "      <th>5</th>\n",
       "      <td>member</td>\n",
       "      <td>Spring</td>\n",
       "      <td>560655</td>\n",
       "    </tr>\n",
       "    <tr>\n",
       "      <th>6</th>\n",
       "      <td>member</td>\n",
       "      <td>Summer</td>\n",
       "      <td>627387</td>\n",
       "    </tr>\n",
       "    <tr>\n",
       "      <th>7</th>\n",
       "      <td>member</td>\n",
       "      <td>Winter</td>\n",
       "      <td>272782</td>\n",
       "    </tr>\n",
       "  </tbody>\n",
       "</table>\n",
       "</div>"
      ],
      "text/plain": [
       "  member_casual  season   count\n",
       "0        casual   Autum  551930\n",
       "1        casual  Spring  404318\n",
       "2        casual  Summer  673508\n",
       "3        casual  Winter   72801\n",
       "4        member   Autum  802841\n",
       "5        member  Spring  560655\n",
       "6        member  Summer  627387\n",
       "7        member  Winter  272782"
      ]
     },
     "execution_count": 95,
     "metadata": {},
     "output_type": "execute_result"
    }
   ],
   "source": [
    "count_s"
   ]
  },
  {
   "cell_type": "markdown",
   "id": "44e065fb-1387-4cd3-9e3c-4e89a0bc6010",
   "metadata": {},
   "source": [
    "# Share"
   ]
  },
  {
   "cell_type": "code",
   "execution_count": 132,
   "id": "cd902990-432c-40bc-8302-c11216487126",
   "metadata": {},
   "outputs": [
    {
     "data": {
      "text/plain": [
       "Text(0.5, 1.0, 'Riders Percentage(%) for each user')"
      ]
     },
     "execution_count": 132,
     "metadata": {},
     "output_type": "execute_result"
    },
    {
     "data": {
      "image/png": "[encoded data removed]",
      "text/plain": [
       "<Figure size 640x480 with 1 Axes>"
      ]
     },
     "metadata": {},
     "output_type": "display_data"
    }
   ],
   "source": [
    "#count the riders given the user type \n",
    "plt.pie(count['count'],\n",
    "        labels=count['member_casual'],\n",
    "        autopct='%.0f%%',\n",
    "        startangle=90,)\n",
    "plt.title('Riders Percentage(%) for each user')"
   ]
  },
  {
   "cell_type": "code",
   "execution_count": 124,
   "id": "ffd3b261-dd7e-4fae-8336-339f99919761",
   "metadata": {},
   "outputs": [
    {
     "data": {
      "text/html": [
       "<div>\n",
       "<style scoped>\n",
       "    .dataframe tbody tr th:only-of-type {\n",
       "        vertical-align: middle;\n",
       "    }\n",
       "\n",
       "    .dataframe tbody tr th {\n",
       "        vertical-align: top;\n",
       "    }\n",
       "\n",
       "    .dataframe thead th {\n",
       "        text-align: right;\n",
       "    }\n",
       "</style>\n",
       "<table border=\"1\" class=\"dataframe\">\n",
       "  <thead>\n",
       "    <tr style=\"text-align: right;\">\n",
       "      <th></th>\n",
       "      <th>member_casual</th>\n",
       "      <th>rideable_type</th>\n",
       "      <th>count</th>\n",
       "    </tr>\n",
       "  </thead>\n",
       "  <tbody>\n",
       "    <tr>\n",
       "      <th>0</th>\n",
       "      <td>casual</td>\n",
       "      <td>classic_bike</td>\n",
       "      <td>1023270</td>\n",
       "    </tr>\n",
       "    <tr>\n",
       "      <th>1</th>\n",
       "      <td>casual</td>\n",
       "      <td>docked_bike</td>\n",
       "      <td>258417</td>\n",
       "    </tr>\n",
       "    <tr>\n",
       "      <th>2</th>\n",
       "      <td>casual</td>\n",
       "      <td>electric_bike</td>\n",
       "      <td>420870</td>\n",
       "    </tr>\n",
       "    <tr>\n",
       "      <th>3</th>\n",
       "      <td>member</td>\n",
       "      <td>classic_bike</td>\n",
       "      <td>1716375</td>\n",
       "    </tr>\n",
       "    <tr>\n",
       "      <th>4</th>\n",
       "      <td>member</td>\n",
       "      <td>electric_bike</td>\n",
       "      <td>547290</td>\n",
       "    </tr>\n",
       "  </tbody>\n",
       "</table>\n",
       "</div>"
      ],
      "text/plain": [
       "  member_casual  rideable_type    count\n",
       "0        casual   classic_bike  1023270\n",
       "1        casual    docked_bike   258417\n",
       "2        casual  electric_bike   420870\n",
       "3        member   classic_bike  1716375\n",
       "4        member  electric_bike   547290"
      ]
     },
     "execution_count": 124,
     "metadata": {},
     "output_type": "execute_result"
    }
   ],
   "source": [
    "count_bt"
   ]
  },
  {
   "cell_type": "code",
   "execution_count": 151,
   "id": "0ba4723a-9411-44fa-aff9-f0c70b070511",
   "metadata": {},
   "outputs": [
    {
     "data": {
      "text/plain": [
       "Text(47.27158950617283, 0.5, 'No. of rides')"
      ]
     },
     "execution_count": 151,
     "metadata": {},
     "output_type": "execute_result"
    },
    {
     "data": {
      "image/png": "[encoded data removed]",
      "text/plain": [
       "<Figure size 621.361x500 with 1 Axes>"
      ]
     },
     "metadata": {},
     "output_type": "display_data"
    }
   ],
   "source": [
    "#Count the riders given both user and bike type \n",
    "sns.catplot(data=count_bt,\n",
    "           kind='bar',\n",
    "           x='rideable_type',\n",
    "           y='count',\n",
    "           hue='member_casual',\n",
    "           palette='dark',\n",
    "           orient='v')\n",
    "plt.title('No of Riders given bike types',fontsize=19,pad=20)\n",
    "plt.xlabel('Bike type')\n",
    "plt.ylabel('No. of rides')"
   ]
  },
  {
   "cell_type": "markdown",
   "id": "6aedec93-dbf5-4761-b117-1749c047f5b2",
   "metadata": {},
   "source": [
    "Docked bikes are never used by annual memebers for the past 12 months "
   ]
  },
  {
   "cell_type": "code",
   "execution_count": 153,
   "id": "adbe998d-68bb-4f2e-bbf5-6a619a9a05dd",
   "metadata": {},
   "outputs": [
    {
     "data": {
      "text/html": [
       "<div>\n",
       "<style scoped>\n",
       "    .dataframe tbody tr th:only-of-type {\n",
       "        vertical-align: middle;\n",
       "    }\n",
       "\n",
       "    .dataframe tbody tr th {\n",
       "        vertical-align: top;\n",
       "    }\n",
       "\n",
       "    .dataframe thead th {\n",
       "        text-align: right;\n",
       "    }\n",
       "</style>\n",
       "<table border=\"1\" class=\"dataframe\">\n",
       "  <thead>\n",
       "    <tr style=\"text-align: right;\">\n",
       "      <th></th>\n",
       "      <th>member_casual</th>\n",
       "      <th>weekday</th>\n",
       "      <th>count</th>\n",
       "    </tr>\n",
       "  </thead>\n",
       "  <tbody>\n",
       "    <tr>\n",
       "      <th>0</th>\n",
       "      <td>casual</td>\n",
       "      <td>Friday</td>\n",
       "      <td>240018</td>\n",
       "    </tr>\n",
       "    <tr>\n",
       "      <th>1</th>\n",
       "      <td>casual</td>\n",
       "      <td>Monday</td>\n",
       "      <td>191801</td>\n",
       "    </tr>\n",
       "    <tr>\n",
       "      <th>2</th>\n",
       "      <td>casual</td>\n",
       "      <td>Saturday</td>\n",
       "      <td>386093</td>\n",
       "    </tr>\n",
       "    <tr>\n",
       "      <th>3</th>\n",
       "      <td>casual</td>\n",
       "      <td>Sunday</td>\n",
       "      <td>328667</td>\n",
       "    </tr>\n",
       "    <tr>\n",
       "      <th>4</th>\n",
       "      <td>casual</td>\n",
       "      <td>Thursday</td>\n",
       "      <td>189962</td>\n",
       "    </tr>\n",
       "    <tr>\n",
       "      <th>5</th>\n",
       "      <td>casual</td>\n",
       "      <td>Tuesday</td>\n",
       "      <td>176268</td>\n",
       "    </tr>\n",
       "    <tr>\n",
       "      <th>6</th>\n",
       "      <td>casual</td>\n",
       "      <td>Wenesday</td>\n",
       "      <td>189748</td>\n",
       "    </tr>\n",
       "    <tr>\n",
       "      <th>7</th>\n",
       "      <td>member</td>\n",
       "      <td>Friday</td>\n",
       "      <td>321910</td>\n",
       "    </tr>\n",
       "    <tr>\n",
       "      <th>8</th>\n",
       "      <td>member</td>\n",
       "      <td>Monday</td>\n",
       "      <td>309386</td>\n",
       "    </tr>\n",
       "    <tr>\n",
       "      <th>9</th>\n",
       "      <td>member</td>\n",
       "      <td>Saturday</td>\n",
       "      <td>306875</td>\n",
       "    </tr>\n",
       "    <tr>\n",
       "      <th>10</th>\n",
       "      <td>member</td>\n",
       "      <td>Sunday</td>\n",
       "      <td>267973</td>\n",
       "    </tr>\n",
       "    <tr>\n",
       "      <th>11</th>\n",
       "      <td>member</td>\n",
       "      <td>Thursday</td>\n",
       "      <td>341624</td>\n",
       "    </tr>\n",
       "    <tr>\n",
       "      <th>12</th>\n",
       "      <td>member</td>\n",
       "      <td>Tuesday</td>\n",
       "      <td>348845</td>\n",
       "    </tr>\n",
       "    <tr>\n",
       "      <th>13</th>\n",
       "      <td>member</td>\n",
       "      <td>Wenesday</td>\n",
       "      <td>367052</td>\n",
       "    </tr>\n",
       "  </tbody>\n",
       "</table>\n",
       "</div>"
      ],
      "text/plain": [
       "   member_casual   weekday   count\n",
       "0         casual    Friday  240018\n",
       "1         casual    Monday  191801\n",
       "2         casual  Saturday  386093\n",
       "3         casual    Sunday  328667\n",
       "4         casual  Thursday  189962\n",
       "5         casual   Tuesday  176268\n",
       "6         casual  Wenesday  189748\n",
       "7         member    Friday  321910\n",
       "8         member    Monday  309386\n",
       "9         member  Saturday  306875\n",
       "10        member    Sunday  267973\n",
       "11        member  Thursday  341624\n",
       "12        member   Tuesday  348845\n",
       "13        member  Wenesday  367052"
      ]
     },
     "execution_count": 153,
     "metadata": {},
     "output_type": "execute_result"
    }
   ],
   "source": [
    "count_wd"
   ]
  },
  {
   "cell_type": "code",
   "execution_count": 171,
   "id": "559519a3-840d-4055-8dc6-8ee29100757d",
   "metadata": {},
   "outputs": [
    {
     "data": {
      "text/plain": [
       "Text(52.67215895061727, 0.5, 'No. of Rides')"
      ]
     },
     "execution_count": 171,
     "metadata": {},
     "output_type": "execute_result"
    },
    {
     "data": {
      "image/png": "[encoded data removed]",
      "text/plain": [
       "<Figure size 621.361x500 with 1 Axes>"
      ]
     },
     "metadata": {},
     "output_type": "display_data"
    }
   ],
   "source": [
    "#Count of riders given both users and weekday \n",
    "sns.catplot(data=count_wd,\n",
    "           kind='bar',\n",
    "           x='weekday',\n",
    "           y='count',\n",
    "           hue='member_casual',\n",
    "           capsize=400)\n",
    "plt.xticks(rotation=45)\n",
    "plt.title('No. of riders given the weekday',fontsize=19)\n",
    "plt.xlabel('')\n",
    "plt.ylabel('No. of Rides')"
   ]
  },
  {
   "cell_type": "markdown",
   "id": "7e50c949-91e4-443b-a1a4-a732015e30db",
   "metadata": {},
   "source": [
    "Casual users are active the most in weekends \n",
    "\n",
    "Members are more active thoughout the rest of the week "
   ]
  },
  {
   "cell_type": "code",
   "execution_count": 174,
   "id": "514cc462-0ad4-40c9-b62c-9a29cd831483",
   "metadata": {},
   "outputs": [
    {
     "data": {
      "text/html": [
       "<div>\n",
       "<style scoped>\n",
       "    .dataframe tbody tr th:only-of-type {\n",
       "        vertical-align: middle;\n",
       "    }\n",
       "\n",
       "    .dataframe tbody tr th {\n",
       "        vertical-align: top;\n",
       "    }\n",
       "\n",
       "    .dataframe thead th {\n",
       "        text-align: right;\n",
       "    }\n",
       "</style>\n",
       "<table border=\"1\" class=\"dataframe\">\n",
       "  <thead>\n",
       "    <tr style=\"text-align: right;\">\n",
       "      <th></th>\n",
       "      <th>member_casual</th>\n",
       "      <th>weekday</th>\n",
       "      <th>Avg_duration_m</th>\n",
       "    </tr>\n",
       "  </thead>\n",
       "  <tbody>\n",
       "    <tr>\n",
       "      <th>0</th>\n",
       "      <td>casual</td>\n",
       "      <td>Friday</td>\n",
       "      <td>31.28</td>\n",
       "    </tr>\n",
       "    <tr>\n",
       "      <th>1</th>\n",
       "      <td>casual</td>\n",
       "      <td>Monday</td>\n",
       "      <td>32.64</td>\n",
       "    </tr>\n",
       "    <tr>\n",
       "      <th>2</th>\n",
       "      <td>casual</td>\n",
       "      <td>Saturday</td>\n",
       "      <td>35.07</td>\n",
       "    </tr>\n",
       "    <tr>\n",
       "      <th>3</th>\n",
       "      <td>casual</td>\n",
       "      <td>Sunday</td>\n",
       "      <td>38.29</td>\n",
       "    </tr>\n",
       "    <tr>\n",
       "      <th>4</th>\n",
       "      <td>casual</td>\n",
       "      <td>Thursday</td>\n",
       "      <td>28.36</td>\n",
       "    </tr>\n",
       "    <tr>\n",
       "      <th>5</th>\n",
       "      <td>casual</td>\n",
       "      <td>Tuesday</td>\n",
       "      <td>28.56</td>\n",
       "    </tr>\n",
       "    <tr>\n",
       "      <th>6</th>\n",
       "      <td>casual</td>\n",
       "      <td>Wenesday</td>\n",
       "      <td>28.67</td>\n",
       "    </tr>\n",
       "    <tr>\n",
       "      <th>7</th>\n",
       "      <td>member</td>\n",
       "      <td>Friday</td>\n",
       "      <td>12.57</td>\n",
       "    </tr>\n",
       "    <tr>\n",
       "      <th>8</th>\n",
       "      <td>member</td>\n",
       "      <td>Monday</td>\n",
       "      <td>12.46</td>\n",
       "    </tr>\n",
       "    <tr>\n",
       "      <th>9</th>\n",
       "      <td>member</td>\n",
       "      <td>Saturday</td>\n",
       "      <td>14.45</td>\n",
       "    </tr>\n",
       "    <tr>\n",
       "      <th>10</th>\n",
       "      <td>member</td>\n",
       "      <td>Sunday</td>\n",
       "      <td>14.81</td>\n",
       "    </tr>\n",
       "    <tr>\n",
       "      <th>11</th>\n",
       "      <td>member</td>\n",
       "      <td>Thursday</td>\n",
       "      <td>12.05</td>\n",
       "    </tr>\n",
       "    <tr>\n",
       "      <th>12</th>\n",
       "      <td>member</td>\n",
       "      <td>Tuesday</td>\n",
       "      <td>12.02</td>\n",
       "    </tr>\n",
       "    <tr>\n",
       "      <th>13</th>\n",
       "      <td>member</td>\n",
       "      <td>Wenesday</td>\n",
       "      <td>12.20</td>\n",
       "    </tr>\n",
       "  </tbody>\n",
       "</table>\n",
       "</div>"
      ],
      "text/plain": [
       "   member_casual   weekday  Avg_duration_m\n",
       "0         casual    Friday           31.28\n",
       "1         casual    Monday           32.64\n",
       "2         casual  Saturday           35.07\n",
       "3         casual    Sunday           38.29\n",
       "4         casual  Thursday           28.36\n",
       "5         casual   Tuesday           28.56\n",
       "6         casual  Wenesday           28.67\n",
       "7         member    Friday           12.57\n",
       "8         member    Monday           12.46\n",
       "9         member  Saturday           14.45\n",
       "10        member    Sunday           14.81\n",
       "11        member  Thursday           12.05\n",
       "12        member   Tuesday           12.02\n",
       "13        member  Wenesday           12.20"
      ]
     },
     "execution_count": 174,
     "metadata": {},
     "output_type": "execute_result"
    }
   ],
   "source": [
    "avg_ride"
   ]
  },
  {
   "cell_type": "code",
   "execution_count": 188,
   "id": "524b3dfd-50f9-4762-9b1e-ed81a65052cd",
   "metadata": {},
   "outputs": [
    {
     "data": {
      "text/plain": [
       "Text(44.23027787422839, 0.5, 'Avg duration in min')"
      ]
     },
     "execution_count": 188,
     "metadata": {},
     "output_type": "execute_result"
    },
    {
     "data": {
      "image/png": "[encoded data removed]",
      "text/plain": [
       "<Figure size 621.361x500 with 1 Axes>"
      ]
     },
     "metadata": {},
     "output_type": "display_data"
    }
   ],
   "source": [
    "#Average ride duration given the user and weekday \n",
    "sns.catplot(data=avg_ride,\n",
    "           kind='bar',\n",
    "           x='weekday',\n",
    "           y='Avg_duration_m',\n",
    "           hue='member_casual')\n",
    "plt.xticks(rotation=45)\n",
    "plt.title('Average ride duration given the weekday',fontsize=19)\n",
    "plt.xlabel('')\n",
    "plt.ylabel('Avg duration in min',fontsize=13)"
   ]
  },
  {
   "cell_type": "markdown",
   "id": "801ffec0-9a01-4407-8ae7-dccd966e4e4f",
   "metadata": {},
   "source": [
    "Average casual rides duration are twice the member duration over the entire weeek "
   ]
  },
  {
   "cell_type": "code",
   "execution_count": 194,
   "id": "b5aed565-d015-4ca8-aedf-71d06b20ac3c",
   "metadata": {},
   "outputs": [
    {
     "data": {
      "text/html": [
       "<div>\n",
       "<style scoped>\n",
       "    .dataframe tbody tr th:only-of-type {\n",
       "        vertical-align: middle;\n",
       "    }\n",
       "\n",
       "    .dataframe tbody tr th {\n",
       "        vertical-align: top;\n",
       "    }\n",
       "\n",
       "    .dataframe thead th {\n",
       "        text-align: right;\n",
       "    }\n",
       "</style>\n",
       "<table border=\"1\" class=\"dataframe\">\n",
       "  <thead>\n",
       "    <tr style=\"text-align: right;\">\n",
       "      <th></th>\n",
       "      <th>member_casual</th>\n",
       "      <th>season</th>\n",
       "      <th>count</th>\n",
       "    </tr>\n",
       "  </thead>\n",
       "  <tbody>\n",
       "    <tr>\n",
       "      <th>0</th>\n",
       "      <td>casual</td>\n",
       "      <td>Autum</td>\n",
       "      <td>551930</td>\n",
       "    </tr>\n",
       "    <tr>\n",
       "      <th>1</th>\n",
       "      <td>casual</td>\n",
       "      <td>Spring</td>\n",
       "      <td>404318</td>\n",
       "    </tr>\n",
       "    <tr>\n",
       "      <th>2</th>\n",
       "      <td>casual</td>\n",
       "      <td>Summer</td>\n",
       "      <td>673508</td>\n",
       "    </tr>\n",
       "    <tr>\n",
       "      <th>3</th>\n",
       "      <td>casual</td>\n",
       "      <td>Winter</td>\n",
       "      <td>72801</td>\n",
       "    </tr>\n",
       "    <tr>\n",
       "      <th>4</th>\n",
       "      <td>member</td>\n",
       "      <td>Autum</td>\n",
       "      <td>802841</td>\n",
       "    </tr>\n",
       "    <tr>\n",
       "      <th>5</th>\n",
       "      <td>member</td>\n",
       "      <td>Spring</td>\n",
       "      <td>560655</td>\n",
       "    </tr>\n",
       "    <tr>\n",
       "      <th>6</th>\n",
       "      <td>member</td>\n",
       "      <td>Summer</td>\n",
       "      <td>627387</td>\n",
       "    </tr>\n",
       "    <tr>\n",
       "      <th>7</th>\n",
       "      <td>member</td>\n",
       "      <td>Winter</td>\n",
       "      <td>272782</td>\n",
       "    </tr>\n",
       "  </tbody>\n",
       "</table>\n",
       "</div>"
      ],
      "text/plain": [
       "  member_casual  season   count\n",
       "0        casual   Autum  551930\n",
       "1        casual  Spring  404318\n",
       "2        casual  Summer  673508\n",
       "3        casual  Winter   72801\n",
       "4        member   Autum  802841\n",
       "5        member  Spring  560655\n",
       "6        member  Summer  627387\n",
       "7        member  Winter  272782"
      ]
     },
     "execution_count": 194,
     "metadata": {},
     "output_type": "execute_result"
    }
   ],
   "source": [
    "count_s"
   ]
  },
  {
   "cell_type": "code",
   "execution_count": 196,
   "id": "e2edc8d1-fc39-48f8-929a-df49cccf6629",
   "metadata": {},
   "outputs": [
    {
     "data": {
      "text/plain": [
       "Text(52.67215895061727, 0.5, 'No. of rides')"
      ]
     },
     "execution_count": 196,
     "metadata": {},
     "output_type": "execute_result"
    },
    {
     "data": {
      "image/png": "[encoded data removed]",
      "text/plain": [
       "<Figure size 621.361x500 with 1 Axes>"
      ]
     },
     "metadata": {},
     "output_type": "display_data"
    }
   ],
   "source": [
    "#Count of the rides given the users and the duration \n",
    "sns.catplot(data=count_s,\n",
    "           kind='bar',\n",
    "           x='season',\n",
    "           y='count',\n",
    "           hue='member_casual')\n",
    "plt.xticks(rotation=45)\n",
    "plt.title('No. od rides given season',fontsize=19)\n",
    "plt.xlabel('')\n",
    "plt.ylabel('No. of rides',fontsize=13)"
   ]
  },
  {
   "cell_type": "markdown",
   "id": "2bf81fc1-5877-4b17-b33c-1a5034cfad5e",
   "metadata": {},
   "source": [
    "Casual users are active the most during summer while member users are active in Autum.\n",
    "\n",
    "Members are more active than casuals the rest of the year."
   ]
  },
  {
   "cell_type": "code",
   "execution_count": null,
   "id": "ab0c1753-2bae-4eb1-a439-a7ec197c17ae",
   "metadata": {},
   "outputs": [],
   "source": []
  }
 ],
 "metadata": {
  "kernelspec": {
   "display_name": "Python [conda env:base] *",
   "language": "python",
   "name": "conda-base-py"
  },
  "language_info": {
   "codemirror_mode": {
    "name": "ipython",
    "version": 3
   },
   "file_extension": ".py",
   "mimetype": "text/x-python",
   "name": "python",
   "nbconvert_exporter": "python",
   "pygments_lexer": "ipython3",
   "version": "3.12.7"
  }
 },
 "nbformat": 4,
 "nbformat_minor": 5
}
